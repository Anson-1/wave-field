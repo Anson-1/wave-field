{
 "cells": [
  {
   "cell_type": "code",
   "execution_count": 3,
   "metadata": {},
   "outputs": [],
   "source": [
    "import netCDF4 as nc"
   ]
  },
  {
   "cell_type": "code",
   "execution_count": 4,
   "metadata": {},
   "outputs": [],
   "source": [
    "fn = '/Users/shiyangxu/Downloads/byan/wavm-inner_wave.nc'"
   ]
  },
  {
   "cell_type": "code",
   "execution_count": 5,
   "metadata": {},
   "outputs": [],
   "source": [
    "ds = nc.Dataset(fn)"
   ]
  },
  {
   "cell_type": "code",
   "execution_count": 6,
   "metadata": {},
   "outputs": [
    {
     "name": "stdout",
     "output_type": "stream",
     "text": [
      "<class 'netCDF4._netCDF4.Dataset'>\n",
      "root group (NETCDF3_CLASSIC data model, file format NETCDF3):\n",
      "    institution: Deltares\n",
      "    references: http://www.deltares.nl\n",
      "    source: Deltares, Delft3D-WAVE Version 3.07.00.62434, Oct 24 2018, 14:38:32\n",
      "    history: Created on 2023-04-25T11:35:22+0800, Delft3D-WAVE\n",
      "    dimensions(sizes): mmax(287), nmax(210), time(4)\n",
      "    variables(dimensions): int32 projected_coordinate_system(), float64 x(nmax, mmax), float64 y(nmax, mmax), float64 time(time), int32 kcs(nmax, mmax), float64 hsign(time, nmax, mmax), float64 dir(time, nmax, mmax), float64 pdir(time, nmax, mmax), float64 period(time, nmax, mmax), float64 rtp(time, nmax, mmax), float64 depth(time, nmax, mmax), float64 veloc-x(time, nmax, mmax), float64 veloc-y(time, nmax, mmax), float64 transp-x(time, nmax, mmax), float64 transp-y(time, nmax, mmax), float64 dspr(time, nmax, mmax), float64 dissip(time, nmax, mmax), float64 leak(time, nmax, mmax), float64 qb(time, nmax, mmax), float64 ubot(time, nmax, mmax), float64 steepw(time, nmax, mmax), float64 wlength(time, nmax, mmax), float64 tps(time, nmax, mmax), float64 tm02(time, nmax, mmax), float64 tmm10(time, nmax, mmax), float64 dhsign(time, nmax, mmax), float64 drtm01(time, nmax, mmax), float64 setup(time, nmax, mmax), float64 fx(time, nmax, mmax), float64 fy(time, nmax, mmax), float64 windu(time, nmax, mmax), float64 windv(time, nmax, mmax)\n",
      "    groups: \n"
     ]
    }
   ],
   "source": [
    "print(ds)"
   ]
  },
  {
   "cell_type": "code",
   "execution_count": 7,
   "metadata": {},
   "outputs": [
    {
     "name": "stdout",
     "output_type": "stream",
     "text": [
      "{'institution': 'Deltares', 'references': 'http://www.deltares.nl', 'source': 'Deltares, Delft3D-WAVE Version 3.07.00.62434, Oct 24 2018, 14:38:32', 'history': 'Created on 2023-04-25T11:35:22+0800, Delft3D-WAVE'}\n"
     ]
    }
   ],
   "source": [
    "print(ds.__dict__)"
   ]
  },
  {
   "cell_type": "code",
   "execution_count": 8,
   "metadata": {},
   "outputs": [
    {
     "name": "stdout",
     "output_type": "stream",
     "text": [
      "Deltares\n"
     ]
    }
   ],
   "source": [
    "print(ds.__dict__['institution'])"
   ]
  },
  {
   "cell_type": "code",
   "execution_count": 9,
   "metadata": {},
   "outputs": [
    {
     "name": "stdout",
     "output_type": "stream",
     "text": [
      "{'mmax': <class 'netCDF4._netCDF4.Dimension'>: name = 'mmax', size = 287, 'nmax': <class 'netCDF4._netCDF4.Dimension'>: name = 'nmax', size = 210, 'time': <class 'netCDF4._netCDF4.Dimension'> (unlimited): name = 'time', size = 4}\n"
     ]
    }
   ],
   "source": [
    "print(ds.dimensions)"
   ]
  },
  {
   "cell_type": "code",
   "execution_count": 10,
   "metadata": {},
   "outputs": [
    {
     "name": "stdout",
     "output_type": "stream",
     "text": [
      "<class 'netCDF4._netCDF4.Variable'>\n",
      "int32 projected_coordinate_system()\n",
      "    name: WGS84\n",
      "    grid_mapping_name: latitude_longitude\n",
      "    epsg: 4326\n",
      "    longitude_of_prime_meridian: 0.0\n",
      "    semi_major_axis: 6378137.0\n",
      "    semi_minor_axis: 6356752.314245\n",
      "    inverse_flattening: 298.257223563\n",
      "    proj4_params: \n",
      "    EPSG_code: EPGS:4326\n",
      "    projection_name: \n",
      "    wkt: \n",
      "    comment: \n",
      "    value: value is equal to EPSG code\n",
      "unlimited dimensions: \n",
      "current shape = ()\n",
      "filling on, default _FillValue of -2147483647 used\n",
      "<class 'netCDF4._netCDF4.Variable'>\n",
      "float64 x(nmax, mmax)\n",
      "    standard_name: projection_x_coordinate\n",
      "    long_name: x-coordinate of cell centres\n",
      "    units: deg\n",
      "    grid_mapping: projected_coordinate_system\n",
      "unlimited dimensions: \n",
      "current shape = (210, 287)\n",
      "filling on, default _FillValue of 9.969209968386869e+36 used\n",
      "<class 'netCDF4._netCDF4.Variable'>\n",
      "float64 y(nmax, mmax)\n",
      "    standard_name: projection_y_coordinate\n",
      "    long_name: y-coordinate of cell centres\n",
      "    units: deg\n",
      "    grid_mapping: projected_coordinate_system\n",
      "unlimited dimensions: \n",
      "current shape = (210, 287)\n",
      "filling on, default _FillValue of 9.969209968386869e+36 used\n",
      "<class 'netCDF4._netCDF4.Variable'>\n",
      "float64 time(time)\n",
      "    standard_name: time\n",
      "    long_name: time\n",
      "    units: seconds since 2020-01-01 00:00:00\n",
      "unlimited dimensions: time\n",
      "current shape = (4,)\n",
      "filling on, default _FillValue of 9.969209968386869e+36 used\n",
      "<class 'netCDF4._netCDF4.Variable'>\n",
      "int32 kcs(nmax, mmax)\n",
      "    coordinates: x y\n",
      "    standard_name: \n",
      "    long_name: Active(1), Inactive(0), boundary(2) indicator\n",
      "    units: -\n",
      "unlimited dimensions: \n",
      "current shape = (210, 287)\n",
      "filling on, default _FillValue of -2147483647 used\n",
      "<class 'netCDF4._netCDF4.Variable'>\n",
      "float64 hsign(time, nmax, mmax)\n",
      "    coordinates: x y\n",
      "    standard_name: \n",
      "    long_name: Significant wave height\n",
      "    units: m\n",
      "unlimited dimensions: time\n",
      "current shape = (4, 210, 287)\n",
      "filling on, default _FillValue of 9.969209968386869e+36 used\n",
      "<class 'netCDF4._netCDF4.Variable'>\n",
      "float64 dir(time, nmax, mmax)\n",
      "    coordinates: x y\n",
      "    standard_name: \n",
      "    long_name: Mean wave direction\n",
      "    units: deg\n",
      "unlimited dimensions: time\n",
      "current shape = (4, 210, 287)\n",
      "filling on, default _FillValue of 9.969209968386869e+36 used\n",
      "<class 'netCDF4._netCDF4.Variable'>\n",
      "float64 pdir(time, nmax, mmax)\n",
      "    coordinates: x y\n",
      "    standard_name: \n",
      "    long_name: Peak wave direction\n",
      "    units: deg\n",
      "unlimited dimensions: time\n",
      "current shape = (4, 210, 287)\n",
      "filling on, default _FillValue of 9.969209968386869e+36 used\n",
      "<class 'netCDF4._netCDF4.Variable'>\n",
      "float64 period(time, nmax, mmax)\n",
      "    coordinates: x y\n",
      "    standard_name: \n",
      "    long_name: Mean wave period\n",
      "    units: sec\n",
      "unlimited dimensions: time\n",
      "current shape = (4, 210, 287)\n",
      "filling on, default _FillValue of 9.969209968386869e+36 used\n",
      "<class 'netCDF4._netCDF4.Variable'>\n",
      "float64 rtp(time, nmax, mmax)\n",
      "    coordinates: x y\n",
      "    standard_name: \n",
      "    long_name: Relative peak wave period\n",
      "    units: sec\n",
      "unlimited dimensions: time\n",
      "current shape = (4, 210, 287)\n",
      "filling on, default _FillValue of 9.969209968386869e+36 used\n",
      "<class 'netCDF4._netCDF4.Variable'>\n",
      "float64 depth(time, nmax, mmax)\n",
      "    coordinates: x y\n",
      "    standard_name: \n",
      "    long_name: Water depth\n",
      "    units: m\n",
      "    grid_mapping: projected_coordinate_system\n",
      "unlimited dimensions: time\n",
      "current shape = (4, 210, 287)\n",
      "filling on, default _FillValue of 9.969209968386869e+36 used\n",
      "<class 'netCDF4._netCDF4.Variable'>\n",
      "float64 veloc-x(time, nmax, mmax)\n",
      "    coordinates: x y\n",
      "    standard_name: \n",
      "    long_name: Current velocity (x-component)\n",
      "    units: m/s\n",
      "unlimited dimensions: time\n",
      "current shape = (4, 210, 287)\n",
      "filling on, default _FillValue of 9.969209968386869e+36 used\n",
      "<class 'netCDF4._netCDF4.Variable'>\n",
      "float64 veloc-y(time, nmax, mmax)\n",
      "    coordinates: x y\n",
      "    standard_name: \n",
      "    long_name: Current velocity (y-component)\n",
      "    units: m/s\n",
      "unlimited dimensions: time\n",
      "current shape = (4, 210, 287)\n",
      "filling on, default _FillValue of 9.969209968386869e+36 used\n",
      "<class 'netCDF4._netCDF4.Variable'>\n",
      "float64 transp-x(time, nmax, mmax)\n",
      "    coordinates: x y\n",
      "    standard_name: \n",
      "    long_name: Energy transport vector (x-component)\n",
      "    units: w/m\n",
      "unlimited dimensions: time\n",
      "current shape = (4, 210, 287)\n",
      "filling on, default _FillValue of 9.969209968386869e+36 used\n",
      "<class 'netCDF4._netCDF4.Variable'>\n",
      "float64 transp-y(time, nmax, mmax)\n",
      "    coordinates: x y\n",
      "    standard_name: \n",
      "    long_name: Energy transport vector (y-component)\n",
      "    units: w/m\n",
      "unlimited dimensions: time\n",
      "current shape = (4, 210, 287)\n",
      "filling on, default _FillValue of 9.969209968386869e+36 used\n",
      "<class 'netCDF4._netCDF4.Variable'>\n",
      "float64 dspr(time, nmax, mmax)\n",
      "    coordinates: x y\n",
      "    standard_name: \n",
      "    long_name: Directional spread of the waves\n",
      "    units: deg\n",
      "unlimited dimensions: time\n",
      "current shape = (4, 210, 287)\n",
      "filling on, default _FillValue of 9.969209968386869e+36 used\n",
      "<class 'netCDF4._netCDF4.Variable'>\n",
      "float64 dissip(time, nmax, mmax)\n",
      "    coordinates: x y\n",
      "    standard_name: \n",
      "    long_name: Energy dissipation\n",
      "    units: n/m/sec\n",
      "unlimited dimensions: time\n",
      "current shape = (4, 210, 287)\n",
      "filling on, default _FillValue of 9.969209968386869e+36 used\n",
      "<class 'netCDF4._netCDF4.Variable'>\n",
      "float64 leak(time, nmax, mmax)\n",
      "    coordinates: x y\n",
      "    standard_name: \n",
      "    long_name: Leakage of energy over sector boundaries\n",
      "    units: j/m2/s\n",
      "unlimited dimensions: time\n",
      "current shape = (4, 210, 287)\n",
      "filling on, default _FillValue of 9.969209968386869e+36 used\n",
      "<class 'netCDF4._netCDF4.Variable'>\n",
      "float64 qb(time, nmax, mmax)\n",
      "    coordinates: x y\n",
      "    standard_name: \n",
      "    long_name: Fraction of breaking waves\n",
      "    units: -\n",
      "unlimited dimensions: time\n",
      "current shape = (4, 210, 287)\n",
      "filling on, default _FillValue of 9.969209968386869e+36 used\n",
      "<class 'netCDF4._netCDF4.Variable'>\n",
      "float64 ubot(time, nmax, mmax)\n",
      "    coordinates: x y\n",
      "    standard_name: \n",
      "    long_name: Rms value maximum of the orbital velocity near bed level\n",
      "    units: m/s\n",
      "unlimited dimensions: time\n",
      "current shape = (4, 210, 287)\n",
      "filling on, default _FillValue of 9.969209968386869e+36 used\n",
      "<class 'netCDF4._netCDF4.Variable'>\n",
      "float64 steepw(time, nmax, mmax)\n",
      "    coordinates: x y\n",
      "    standard_name: \n",
      "    long_name: Mean wave steepness\n",
      "    units: -\n",
      "unlimited dimensions: time\n",
      "current shape = (4, 210, 287)\n",
      "filling on, default _FillValue of 9.969209968386869e+36 used\n",
      "<class 'netCDF4._netCDF4.Variable'>\n",
      "float64 wlength(time, nmax, mmax)\n",
      "    coordinates: x y\n",
      "    standard_name: \n",
      "    long_name: Mean wave length\n",
      "    units: m\n",
      "unlimited dimensions: time\n",
      "current shape = (4, 210, 287)\n",
      "filling on, default _FillValue of 9.969209968386869e+36 used\n",
      "<class 'netCDF4._netCDF4.Variable'>\n",
      "float64 tps(time, nmax, mmax)\n",
      "    coordinates: x y\n",
      "    standard_name: \n",
      "    long_name: Smoothed peak period\n",
      "    units: sec\n",
      "unlimited dimensions: time\n",
      "current shape = (4, 210, 287)\n",
      "filling on, default _FillValue of 9.969209968386869e+36 used\n",
      "<class 'netCDF4._netCDF4.Variable'>\n",
      "float64 tm02(time, nmax, mmax)\n",
      "    coordinates: x y\n",
      "    standard_name: \n",
      "    long_name: Mean absolute zero-crossing period\n",
      "    units: sec\n",
      "unlimited dimensions: time\n",
      "current shape = (4, 210, 287)\n",
      "filling on, default _FillValue of 9.969209968386869e+36 used\n",
      "<class 'netCDF4._netCDF4.Variable'>\n",
      "float64 tmm10(time, nmax, mmax)\n",
      "    coordinates: x y\n",
      "    standard_name: \n",
      "    long_name: Mean absolute wave period\n",
      "    units: sec\n",
      "unlimited dimensions: time\n",
      "current shape = (4, 210, 287)\n",
      "filling on, default _FillValue of 9.969209968386869e+36 used\n",
      "<class 'netCDF4._netCDF4.Variable'>\n",
      "float64 dhsign(time, nmax, mmax)\n",
      "    coordinates: x y\n",
      "    standard_name: \n",
      "    long_name: Difference in significant wave height (last iterations)\n",
      "    units: m\n",
      "unlimited dimensions: time\n",
      "current shape = (4, 210, 287)\n",
      "filling on, default _FillValue of 9.969209968386869e+36 used\n",
      "<class 'netCDF4._netCDF4.Variable'>\n",
      "float64 drtm01(time, nmax, mmax)\n",
      "    coordinates: x y\n",
      "    standard_name: \n",
      "    long_name: Difference in average wave period (last iterations)\n",
      "    units: sec\n",
      "unlimited dimensions: time\n",
      "current shape = (4, 210, 287)\n",
      "filling on, default _FillValue of 9.969209968386869e+36 used\n",
      "<class 'netCDF4._netCDF4.Variable'>\n",
      "float64 setup(time, nmax, mmax)\n",
      "    coordinates: x y\n",
      "    standard_name: \n",
      "    long_name: Set-up due to waves\n",
      "    units: m\n",
      "unlimited dimensions: time\n",
      "current shape = (4, 210, 287)\n",
      "filling on, default _FillValue of 9.969209968386869e+36 used\n",
      "<class 'netCDF4._netCDF4.Variable'>\n",
      "float64 fx(time, nmax, mmax)\n",
      "    coordinates: x y\n",
      "    standard_name: \n",
      "    long_name: Wave induced force (x-component)\n",
      "    units: n/m2\n",
      "unlimited dimensions: time\n",
      "current shape = (4, 210, 287)\n",
      "filling on, default _FillValue of 9.969209968386869e+36 used\n",
      "<class 'netCDF4._netCDF4.Variable'>\n",
      "float64 fy(time, nmax, mmax)\n",
      "    coordinates: x y\n",
      "    standard_name: \n",
      "    long_name: Wave induced force (y-component)\n",
      "    units: n/m2\n",
      "unlimited dimensions: time\n",
      "current shape = (4, 210, 287)\n",
      "filling on, default _FillValue of 9.969209968386869e+36 used\n",
      "<class 'netCDF4._netCDF4.Variable'>\n",
      "float64 windu(time, nmax, mmax)\n",
      "    coordinates: x y\n",
      "    standard_name: \n",
      "    long_name: Wind velocity (x-component)\n",
      "    units: m/s\n",
      "unlimited dimensions: time\n",
      "current shape = (4, 210, 287)\n",
      "filling on, default _FillValue of 9.969209968386869e+36 used\n",
      "<class 'netCDF4._netCDF4.Variable'>\n",
      "float64 windv(time, nmax, mmax)\n",
      "    coordinates: x y\n",
      "    standard_name: \n",
      "    long_name: Wind velocity (y-component)\n",
      "    units: m/s\n",
      "unlimited dimensions: time\n",
      "current shape = (4, 210, 287)\n",
      "filling on, default _FillValue of 9.969209968386869e+36 used\n"
     ]
    }
   ],
   "source": [
    "for var in ds.variables.values():\n",
    "    print(var)"
   ]
  },
  {
   "cell_type": "code",
   "execution_count": 12,
   "metadata": {},
   "outputs": [
    {
     "name": "stdout",
     "output_type": "stream",
     "text": [
      "(210, 287)\n"
     ]
    }
   ],
   "source": [
    "print(ds['x'][:].shape)"
   ]
  },
  {
   "attachments": {},
   "cell_type": "markdown",
   "metadata": {},
   "source": [
    "print(ds)"
   ]
  },
  {
   "cell_type": "code",
   "execution_count": 13,
   "metadata": {},
   "outputs": [
    {
     "name": "stdout",
     "output_type": "stream",
     "text": [
      "(210, 287)\n"
     ]
    }
   ],
   "source": [
    "print(ds['y'][:].shape)"
   ]
  },
  {
   "cell_type": "code",
   "execution_count": 30,
   "metadata": {},
   "outputs": [
    {
     "name": "stdout",
     "output_type": "stream",
     "text": [
      "[22.1778 22.1782 22.1786 22.179  22.1794 22.1798 22.1802 22.1806 22.181\n",
      " 22.1814 22.1818 22.1822 22.1826 22.183  22.1834 22.1838 22.1842 22.1846\n",
      " 22.185  22.1854 22.1858 22.1862 22.1866 22.187  22.1874 22.1878 22.1882\n",
      " 22.1886 22.189  22.1894 22.1898 22.1902 22.1906 22.191  22.1914 22.1918\n",
      " 22.1922 22.1926 22.193  22.1934 22.1938 22.1942 22.1946 22.195  22.1954\n",
      " 22.1958 22.1962 22.1966 22.197  22.1974 22.1978 22.1982 22.1986 22.199\n",
      " 22.1994 22.1998 22.2002 22.2006 22.201  22.2014 22.2018 22.2022 22.2026\n",
      " 22.203  22.2034 22.2038 22.2042 22.2046 22.205  22.2054 22.2058 22.2062\n",
      " 22.2066 22.207  22.2074 22.2078 22.2082 22.2086 22.209  22.2094 22.2098\n",
      " 22.2102 22.2106 22.211  22.2114 22.2118 22.2122 22.2126 22.213  22.2134\n",
      " 22.2138 22.2142 22.2146 22.215  22.2154 22.2158 22.2162 22.2166 22.217\n",
      " 22.2174 22.2178 22.2182 22.2186 22.219  22.2194 22.2198 22.2202 22.2206\n",
      " 22.221  22.2214 22.2218 22.2222 22.2226 22.223  22.2234 22.2238 22.2242\n",
      " 22.2246 22.225  22.2254 22.2258 22.2262 22.2266 22.227  22.2274 22.2278\n",
      " 22.2282 22.2286 22.229  22.2294 22.2298 22.2302 22.2306 22.231  22.2314\n",
      " 22.2318 22.2322 22.2326 22.233  22.2334 22.2338 22.2342 22.2346 22.235\n",
      " 22.2354 22.2358 22.2362 22.2366 22.237  22.2374 22.2378 22.2382 22.2386\n",
      " 22.239  22.2394 22.2398 22.2402 22.2406 22.241  22.2414 22.2418 22.2422\n",
      " 22.2426 22.243  22.2434 22.2438 22.2442 22.2446 22.245  22.2454 22.2458\n",
      " 22.2462 22.2466 22.247  22.2474 22.2478 22.2482 22.2486 22.249  22.2494\n",
      " 22.2498 22.2502 22.2506 22.251  22.2514 22.2518 22.2522 22.2526 22.253\n",
      " 22.2534 22.2538 22.2542 22.2546 22.255  22.2554 22.2558 22.2562 22.2566\n",
      " 22.257  22.2574 22.2578 22.2582 22.2586 22.259  22.2594 22.2598 22.2602\n",
      " 22.2606 22.261  22.2614]\n"
     ]
    }
   ],
   "source": [
    "print(ds['y'][:,0])"
   ]
  },
  {
   "cell_type": "code",
   "execution_count": null,
   "metadata": {},
   "outputs": [],
   "source": []
  },
  {
   "cell_type": "code",
   "execution_count": 2,
   "metadata": {},
   "outputs": [],
   "source": [
    "import matlab.engine\n",
    "import numpy as np\n",
    "import netCDF4 as nc\n",
    "import math\n",
    "import time\n",
    "\n",
    "def avg(val, data_type):\n",
    "    if (data_type == 0):\n",
    "        sum = 0\n",
    "        len = 0\n",
    "        for v in val:\n",
    "            if v != -1:\n",
    "                sum += v\n",
    "                len += 1\n",
    "        sum /= len\n",
    "        return sum\n",
    "    \n",
    "    elif (data_type == 1):\n",
    "        xsum = 0\n",
    "        ysum = 0\n",
    "        len = 0\n",
    "\n",
    "        for v in val:\n",
    "            xsum += math.sin(np.deg2rad(v))\n",
    "            ysum += math.cos(np.deg2rad(v))\n",
    "            len += 1\n",
    "        xsum /= len\n",
    "        ysum /= len\n",
    "        avg_deg = np.rad2deg(math.atan2(ysum, xsum))\n",
    "\n",
    "        return avg_deg\n",
    "\n",
    "def zoom(arr, mult, data_type):\n",
    "    arr_shape = np.shape(arr)\n",
    "    arr_mod_shape = [math.ceil(s/mult) for s in arr_shape]\n",
    "\n",
    "    arr_mod = np.zeros(arr_mod_shape)\n",
    "\n",
    "    for i in range(arr_mod_shape[0]):\n",
    "        for j in range(arr_mod_shape[1]):\n",
    "            val_list = []    \n",
    "\n",
    "            for x in range(mult):\n",
    "                if (i*mult+x < arr_shape[0]):\n",
    "                    for y in range(mult):\n",
    "                        if (j*mult+y < arr_shape[1]):\n",
    "                            val_list.append(arr[i*mult+x][j*mult+y])\n",
    "\n",
    "            arr_mod[i][j] = avg(val_list, data_type)   \n",
    "    \n",
    "    return arr_mod\n",
    "\n",
    "\n",
    "# arr = np.array([[1,3,4,9],\n",
    "#        [8,4,6,2],\n",
    "#        [7,3,2,1],\n",
    "#        [2,7,3,0] \n",
    "# ])\n",
    "\n",
    "# arr_mod = zoom(arr, 4)\n",
    "\n",
    "eng = matlab.engine.start_matlab()\n",
    "\n",
    "path = \"/Users/shiyangxu/Downloads/byan/wavm-inner_wave.nc\"\n",
    "data = nc.Dataset(path)\n",
    "\n",
    "x = np.array(data['x'])\n",
    "y = np.array(data['y'])\n",
    "depth = np.array(data['depth'][0, :, :])\n",
    "param = np.array(data['hsign'][0, :, :])\n",
    "\n",
    "# arr_shape = np.shape(x)\n",
    "# for i in range(arr_shape[0]):\n",
    "#     for j in range(arr_shape[1]):\n",
    "#         if (depth[i][j] == 0.):\n",
    "#             param[i][j] = -1\n",
    "\n",
    "fac = 8 \n",
    "x_mod = zoom(x, fac, 0)\n",
    "y_mod = zoom(y, fac, 0)\n",
    "param_mod = zoom(param, fac, 0)\n",
    "\n",
    "eng.pcolor(x_mod, y_mod, param_mod)\n",
    "\n",
    "t = time.time()\n",
    "while (time.time()-t) < 20:\n",
    "    a = 1\n",
    "eng.quit()"
   ]
  },
  {
   "cell_type": "code",
   "execution_count": 19,
   "metadata": {},
   "outputs": [
    {
     "name": "stdout",
     "output_type": "stream",
     "text": [
      "[[1 2]\n",
      " [3 4]]\n"
     ]
    }
   ],
   "source": [
    "import numpy as np\n",
    "\n",
    "X = np.array([[[1, 2], [3, 4]], [[5, 6], [7, 8]]])\n",
    "print (X[0,:,:])"
   ]
  },
  {
   "cell_type": "code",
   "execution_count": 21,
   "metadata": {},
   "outputs": [],
   "source": [
    "x = np.array([[[23.64999962, 23.76000023, 23.80999947, 34.22999954, 34.13999939, 34.18000031],\n",
    "  [23.71999931, 23.81999969, 23.81999969, 34.20000076, 34.18999863, 34.24000168],\n",
    "  [23.79000092, 23.73999977, 23.78000069, 34.20000076, 34.22999954, 34.27000046]], \n",
    "  [[23.64999962, 23.76000023, 23.80999947, 34.22999954, 34.13999939, 34.18000031],\n",
    "  [23.71999931, 23.81999969, 23.81999969, 34.20000076, 34.18999863, 34.24000168],\n",
    "   [23.79000092, 23.73999977, 23.78000069, 34.20000076, 34.22999954, 34.27000046]]])"
   ]
  },
  {
   "cell_type": "code",
   "execution_count": 22,
   "metadata": {},
   "outputs": [
    {
     "name": "stdout",
     "output_type": "stream",
     "text": [
      "[[23.64999962 23.76000023 23.80999947 34.22999954 34.13999939 34.18000031]\n",
      " [23.71999931 23.81999969 23.81999969 34.20000076 34.18999863 34.24000168]\n",
      " [23.79000092 23.73999977 23.78000069 34.20000076 34.22999954 34.27000046]]\n"
     ]
    }
   ],
   "source": [
    "print(x[0,:,:])"
   ]
  },
  {
   "cell_type": "code",
   "execution_count": 17,
   "metadata": {},
   "outputs": [
    {
     "name": "stdout",
     "output_type": "stream",
     "text": [
      "(210, 287)\n"
     ]
    }
   ],
   "source": [
    "print(x.shape)"
   ]
  },
  {
   "cell_type": "code",
   "execution_count": 18,
   "metadata": {},
   "outputs": [
    {
     "name": "stdout",
     "output_type": "stream",
     "text": [
      "(210, 287)\n"
     ]
    }
   ],
   "source": [
    "print(y.shape)"
   ]
  },
  {
   "cell_type": "code",
   "execution_count": 22,
   "metadata": {},
   "outputs": [
    {
     "name": "stdout",
     "output_type": "stream",
     "text": [
      "Serializing wave data into JSON string and writing into Data.json\n",
      "Done writing serialized wave data into Data.json\n",
      "Started Reading JSON file\n",
      "Converting JSON encoded data into Numpy array\n",
      "X\n",
      "[[114.19   114.1904 114.1908 ... 114.3036 114.304  114.3044]\n",
      " [114.19   114.1904 114.1908 ... 114.3036 114.304  114.3044]\n",
      " [114.19   114.1904 114.1908 ... 114.3036 114.304  114.3044]\n",
      " ...\n",
      " [114.19   114.1904 114.1908 ... 114.3036 114.304  114.3044]\n",
      " [114.19   114.1904 114.1908 ... 114.3036 114.304  114.3044]\n",
      " [114.19   114.1904 114.1908 ... 114.3036 114.304  114.3044]]\n",
      "Y\n",
      "[[22.1778 22.1778 22.1778 ... 22.1778 22.1778 22.1778]\n",
      " [22.1782 22.1782 22.1782 ... 22.1782 22.1782 22.1782]\n",
      " [22.1786 22.1786 22.1786 ... 22.1786 22.1786 22.1786]\n",
      " ...\n",
      " [22.2606 22.2606 22.2606 ... 22.2606 22.2606 22.2606]\n",
      " [22.261  22.261  22.261  ... 22.261  22.261  22.261 ]\n",
      " [22.2614 22.2614 22.2614 ... 22.2614 22.2614 22.2614]]\n",
      "Wave height\n",
      "[[0.26370001 0.26449999 0.26519999 ... 0.02671    0.0233     0.02034   ]\n",
      " [0.27329999 0.27410001 0.27469999 ... 0.02467    0.02121    0.01825   ]\n",
      " [0.27860001 0.2793     0.2798     ... 0.02241    0.01892    0.01603   ]\n",
      " ...\n",
      " [0.         0.         0.         ... 0.004261   0.004039   0.003836  ]\n",
      " [0.         0.         0.         ... 0.00436    0.004118   0.003902  ]\n",
      " [0.         0.         0.         ... 0.004472   0.004208   0.003976  ]]\n",
      "Wave direction\n",
      "[[-115.26000977 -115.63999939 -115.8999939  ...  147.1000061\n",
      "   144.79998779  142.70001221]\n",
      " [-112.33000183 -112.66000366 -112.8999939  ...  146.3999939\n",
      "   144.          141.79998779]\n",
      " [-110.51000977 -110.82000732 -111.02999878 ...  145.70001221\n",
      "   143.20001221  140.79998779]\n",
      " ...\n",
      " [-180.         -180.         -180.         ...   13.\n",
      "    12.80000305   12.69999695]\n",
      " [-180.         -180.         -180.         ...   13.3999939\n",
      "    13.19999695   13.        ]\n",
      " [-180.         -180.         -180.         ...   13.8999939\n",
      "    13.6000061    13.3999939 ]]\n"
     ]
    }
   ],
   "source": [
    "import numpy as np\n",
    "import netCDF4 as nc\n",
    "from json import JSONEncoder\n",
    "import json\n",
    "import math\n",
    "\n",
    "## Definition of numpy array encoder class for serialization of ndnumpy array into json string ##\n",
    "class NumpyArrayEncoder(JSONEncoder):\n",
    "    def default(self, obj):\n",
    "        if isinstance(obj, np.ndarray):\n",
    "            return obj.tolist()\n",
    "        return JSONEncoder.default(self, obj)\n",
    "## ------------------------------------------------------------------------------------------- ##\n",
    "\n",
    "## Extraction of wave data parameters from .nc file ##\n",
    "path = \"/Users/shiyangxu/Downloads/byan/wavm-inner_wave.nc\"\n",
    "data = nc.Dataset(path)\n",
    "json_filename = \"Data.json\"\n",
    "\n",
    "x = np.array(data['x'])\n",
    "y = np.array(data['y'])\n",
    "depth = np.array(data['depth'][0, :, :])\n",
    "wave_ht = np.array(data['hsign'][0, :, :])\n",
    "wave_dir = np.array(data['dir'][0, :, :])\n",
    "## ------------------------------------------------ ##\n",
    "\n",
    "## Customizable user settings for rasterizing wave data ##\n",
    "fac = 1\n",
    "## ---------------------------------------------------- ##\n",
    "\n",
    "## Definition of functions ##\n",
    "def avg(val, data_type):  \n",
    "    # data_type - 0: x,y; 1: direction, 2: others\n",
    "    if (data_type == 1):\n",
    "        xsum = 0\n",
    "        ysum = 0\n",
    "        len = 0\n",
    "\n",
    "        for v in val:\n",
    "            # if v != -1.:\n",
    "            xsum += math.sin(np.deg2rad(v))\n",
    "            ysum += math.cos(np.deg2rad(v))\n",
    "            len += 1\n",
    "\n",
    "        if (len > 0):\n",
    "            xsum /= len\n",
    "            ysum /= len\n",
    "            \n",
    "        avg_deg = np.rad2deg(math.atan2(ysum, xsum))\n",
    "        return avg_deg\n",
    "    \n",
    "    else:\n",
    "        sum = 0\n",
    "        len = 0\n",
    "        for v in val:\n",
    "            # if v != -1.:\n",
    "            sum += v\n",
    "            len += 1\n",
    "        if (len > 0):\n",
    "            sum /= len\n",
    "        return sum\n",
    "\n",
    "def zoom(arr, mult, data_type):\n",
    "    # data_type - 0: x,y; 1: direction, 2: others\n",
    "    arr_shape = np.shape(arr)\n",
    "    arr_mod_shape = [math.ceil(s/mult) for s in arr_shape]\n",
    "\n",
    "    arr_mod = np.zeros(arr_mod_shape)\n",
    "    for i in range(arr_mod_shape[0]):\n",
    "        for j in range(arr_mod_shape[1]):\n",
    "            val_list = []    \n",
    "            for x in range(mult):\n",
    "                if (i*mult+x < arr_shape[0]):\n",
    "                    for y in range(mult):\n",
    "                        if (j*mult+y < arr_shape[1]):\n",
    "                            val_list.append(arr[i*mult+x][j*mult+y])\n",
    "            arr_mod[i][j] = avg(val_list, data_type)   \n",
    "\n",
    "    return arr_mod\n",
    "## ----------------------- ##\n",
    "\n",
    "## Modification of data according to a multiplication factor ##\n",
    "x_mod = zoom(x, fac, 0)\n",
    "y_mod = zoom(y, fac, 0)\n",
    "wave_ht_mod = zoom(wave_ht, fac, 2)\n",
    "wave_dir_mod = zoom(wave_dir, fac, 1)\n",
    "## --------------------------------------------------------- ##\n",
    "\n",
    "## Publishing of wave data into JSON file ##\n",
    "wave_data = {\"X\": x, \"Y\": y, \"waveHeight\": wave_ht_mod, \"waveDirection\": wave_dir_mod}\n",
    "print(f\"Serializing wave data into JSON string and writing into {json_filename}\")\n",
    "with open(json_filename, \"w\") as write_file:\n",
    "    json.dump(wave_data, write_file, cls=NumpyArrayEncoder)\n",
    "print(f\"Done writing serialized wave data into {json_filename}\")\n",
    "## -------------------------------------- ##\n",
    "\n",
    "## Extraction of wave data from JSON file as test ##\n",
    "print(\"Started Reading JSON file\")\n",
    "with open(json_filename, \"r\") as read_file:\n",
    "    print(\"Converting JSON encoded data into Numpy array\")\n",
    "    decodedArray = json.load(read_file)\n",
    "    print(\"X\")\n",
    "    print(x)\n",
    "    print(\"Y\")\n",
    "    print(y)\n",
    "    finalNumpyArrayOne = np.asarray(decodedArray[\"waveHeight\"])\n",
    "    print(\"Wave height\")\n",
    "    print(finalNumpyArrayOne)\n",
    "    finalNumpyArrayTwo = np.asarray(decodedArray[\"waveDirection\"])\n",
    "    print(\"Wave direction\")\n",
    "    print(finalNumpyArrayTwo)\n",
    "## ----------------------------------------------- ##"
   ]
  },
  {
   "cell_type": "code",
   "execution_count": 16,
   "metadata": {},
   "outputs": [
    {
     "name": "stdout",
     "output_type": "stream",
     "text": [
      "(210, 287)\n"
     ]
    }
   ],
   "source": [
    "print(finalNumpyArrayOne.shape)"
   ]
  },
  {
   "cell_type": "code",
   "execution_count": null,
   "metadata": {},
   "outputs": [],
   "source": []
  }
 ],
 "metadata": {
  "kernelspec": {
   "display_name": "base",
   "language": "python",
   "name": "python3"
  },
  "language_info": {
   "codemirror_mode": {
    "name": "ipython",
    "version": 3
   },
   "file_extension": ".py",
   "mimetype": "text/x-python",
   "name": "python",
   "nbconvert_exporter": "python",
   "pygments_lexer": "ipython3",
   "version": "3.9.7"
  },
  "orig_nbformat": 4
 },
 "nbformat": 4,
 "nbformat_minor": 2
}
